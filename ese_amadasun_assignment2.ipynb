{
 "cells": [
  {
   "cell_type": "markdown",
   "metadata": {},
   "source": [
    "# CTA 5.0 Python Programming Week 4 Assignment"
   ]
  },
  {
   "cell_type": "markdown",
   "metadata": {},
   "source": [
    "## Questions\n",
    "\n",
    "1. Write a Python function that takes two parameters (a and b) and returns their sum. Test the function with different input values\n",
    "\n",
    "2. Create a Python function that calculates the factorial of a given number. Allow the user to input the number and display result\n",
    "\n",
    "3. Implement a function that checks whether a given number is a prime or not. Test the function with various number to demonstrate its accuracy.\n",
    "\n",
    "4. Develop a function that accepts a list of numbers and returns the average. Test the function with a sample list of numbers."
   ]
  },
  {
   "cell_type": "markdown",
   "metadata": {},
   "source": [
    "#### 1. Write a Python function that takes two parameters (a and b) and returns their sum. Test the function with different input values"
   ]
  },
  {
   "cell_type": "code",
   "execution_count": null,
   "metadata": {},
   "outputs": [],
   "source": [
    "def sum(a, b):\n",
    "    a = 4\n",
    "    b = 5\n",
    "    return sum"
   ]
  },
  {
   "cell_type": "code",
   "execution_count": 2,
   "metadata": {},
   "outputs": [
    {
     "name": "stdout",
     "output_type": "stream",
     "text": [
      "15\n",
      "15\n",
      "14\n"
     ]
    }
   ],
   "source": [
    "# 1. Function to calculate the sum of two numbers\n",
    "def sum_two_numbers(a, b):\n",
    "    return a + b\n",
    "\n",
    "# Testing the function with different input values\n",
    "test1 = sum_two_numbers(5, 10)\n",
    "test2 = sum_two_numbers(8, 7)\n",
    "test3 = sum_two_numbers(6, 8)\n",
    "\n",
    "print(test1)\n",
    "print(test2)\n",
    "print(test3)"
   ]
  },
  {
   "cell_type": "markdown",
   "metadata": {},
   "source": [
    "#### 2. Create a Python function that calculates the factorial of a given number. Allow the user to input the number and display result"
   ]
  },
  {
   "cell_type": "code",
   "execution_count": 10,
   "metadata": {},
   "outputs": [
    {
     "name": "stdout",
     "output_type": "stream",
     "text": [
      "The factorial of 10 is: 3628800\n"
     ]
    }
   ],
   "source": [
    "def factorial(n):\n",
    "    if n == 0 or n == 1:\n",
    "        return 1\n",
    "    else:\n",
    "        return n * factorial(n - 1)\n",
    "\n",
    "# Allowing user to input a number and displaying the result\n",
    "input_number = int(input('Enter any number: '))\n",
    "factorial_result = factorial(input_number)\n",
    "\n",
    "print(f'The factorial of {input_number} is: {factorial_result}')"
   ]
  },
  {
   "cell_type": "markdown",
   "metadata": {},
   "source": [
    "#### 3. Implement a function that checks whether a given number is a prime or not. Test the function with various number to demonstrate its accuracy."
   ]
  },
  {
   "cell_type": "code",
   "execution_count": 11,
   "metadata": {},
   "outputs": [
    {
     "name": "stdout",
     "output_type": "stream",
     "text": [
      "True\n",
      "False\n",
      "True\n"
     ]
    }
   ],
   "source": [
    "# Function to check if a number is prime\n",
    "def is_prime(n):\n",
    "    if n <= 1:\n",
    "        return False\n",
    "    for i in range(2, int(n**0.5) + 1):\n",
    "        if n % i == 0:\n",
    "            return False\n",
    "    return True\n",
    "\n",
    "# Testing the prime function with various numbers\n",
    "prime_test1 = is_prime(11)\n",
    "prime_test2 = is_prime(4)\n",
    "prime_test3 = is_prime(17)\n",
    "\n",
    "print(prime_test1)\n",
    "print(prime_test2)\n",
    "print(prime_test3)"
   ]
  },
  {
   "cell_type": "markdown",
   "metadata": {},
   "source": [
    "#### 4. Develop a function that accepts a list of numbers and returns the average. Test the function with a sample list of numbers."
   ]
  },
  {
   "cell_type": "code",
   "execution_count": 12,
   "metadata": {},
   "outputs": [
    {
     "name": "stdout",
     "output_type": "stream",
     "text": [
      "30.0\n"
     ]
    }
   ],
   "source": [
    "def average_of_list(numbers):\n",
    "    if not numbers:  # Check if the list is empty\n",
    "        return 0\n",
    "    return sum(numbers) / len(numbers)\n",
    "\n",
    "# Testing the function with a sample list of numbers\n",
    "sample_list = [10, 20, 30, 40, 50]\n",
    "average_result = average_of_list(sample_list)\n",
    "\n",
    "print(average_result)"
   ]
  }
 ],
 "metadata": {
  "kernelspec": {
   "display_name": "base",
   "language": "python",
   "name": "python3"
  },
  "language_info": {
   "codemirror_mode": {
    "name": "ipython",
    "version": 3
   },
   "file_extension": ".py",
   "mimetype": "text/x-python",
   "name": "python",
   "nbconvert_exporter": "python",
   "pygments_lexer": "ipython3",
   "version": "3.9.12"
  }
 },
 "nbformat": 4,
 "nbformat_minor": 2
}
